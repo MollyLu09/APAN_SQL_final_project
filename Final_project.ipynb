{
 "cells": [
  {
   "cell_type": "code",
   "execution_count": 106,
   "id": "ab928bba",
   "metadata": {},
   "outputs": [],
   "source": [
    "import pandas as pd \n",
    "import os\n",
    "import psycopg2\n",
    "import numpy as np\n",
    "import psycopg2.extras as extras\n",
    "import string\n",
    "import random\n",
    "from sklearn.preprocessing import MultiLabelBinarizer"
   ]
  },
  {
   "cell_type": "markdown",
   "id": "c10ab483",
   "metadata": {},
   "source": [
    "## Load airbnb dataset "
   ]
  },
  {
   "cell_type": "code",
   "execution_count": 107,
   "id": "105ec5e2",
   "metadata": {
    "scrolled": true
   },
   "outputs": [
    {
     "name": "stderr",
     "output_type": "stream",
     "text": [
      "/opt/anaconda3/lib/python3.7/site-packages/IPython/core/interactiveshell.py:3437: DtypeWarning: Columns (31,79) have mixed types.Specify dtype option on import or set low_memory=False.\n",
      "  exec(code_obj, self.user_global_ns, self.user_ns)\n"
     ]
    },
    {
     "data": {
      "text/html": [
       "<div>\n",
       "<style scoped>\n",
       "    .dataframe tbody tr th:only-of-type {\n",
       "        vertical-align: middle;\n",
       "    }\n",
       "\n",
       "    .dataframe tbody tr th {\n",
       "        vertical-align: top;\n",
       "    }\n",
       "\n",
       "    .dataframe thead th {\n",
       "        text-align: right;\n",
       "    }\n",
       "</style>\n",
       "<table border=\"1\" class=\"dataframe\">\n",
       "  <thead>\n",
       "    <tr style=\"text-align: right;\">\n",
       "      <th></th>\n",
       "      <th>id</th>\n",
       "      <th>name</th>\n",
       "      <th>summary</th>\n",
       "      <th>space</th>\n",
       "      <th>description</th>\n",
       "      <th>neighborhood_overview</th>\n",
       "      <th>notes</th>\n",
       "      <th>transit</th>\n",
       "      <th>access</th>\n",
       "      <th>interaction</th>\n",
       "      <th>...</th>\n",
       "      <th>instant_bookable</th>\n",
       "      <th>is_business_travel_ready</th>\n",
       "      <th>cancellation_policy</th>\n",
       "      <th>require_guest_profile_picture</th>\n",
       "      <th>require_guest_phone_verification</th>\n",
       "      <th>calculated_host_listings_count</th>\n",
       "      <th>calculated_host_listings_count_entire_homes</th>\n",
       "      <th>calculated_host_listings_count_private_rooms</th>\n",
       "      <th>calculated_host_listings_count_shared_rooms</th>\n",
       "      <th>reviews_per_month</th>\n",
       "    </tr>\n",
       "  </thead>\n",
       "  <tbody>\n",
       "    <tr>\n",
       "      <th>0</th>\n",
       "      <td>5935333</td>\n",
       "      <td>&lt;Williamsburg Apartment&gt;</td>\n",
       "      <td>My place is close to L train and walking dista...</td>\n",
       "      <td>NaN</td>\n",
       "      <td>My place is close to L train and walking dista...</td>\n",
       "      <td>NaN</td>\n",
       "      <td>NaN</td>\n",
       "      <td>NaN</td>\n",
       "      <td>NaN</td>\n",
       "      <td>NaN</td>\n",
       "      <td>...</td>\n",
       "      <td>f</td>\n",
       "      <td>f</td>\n",
       "      <td>strict_14_with_grace_period</td>\n",
       "      <td>f</td>\n",
       "      <td>f</td>\n",
       "      <td>1</td>\n",
       "      <td>1</td>\n",
       "      <td>0</td>\n",
       "      <td>0</td>\n",
       "      <td>0.03</td>\n",
       "    </tr>\n",
       "    <tr>\n",
       "      <th>1</th>\n",
       "      <td>16656693</td>\n",
       "      <td>&lt;Large 1 bedroom and private bath in Astoria&gt;</td>\n",
       "      <td>Located in the Astoria Arts District,  this 1 ...</td>\n",
       "      <td>The bedroom includes a twin bed,  a TV,  dress...</td>\n",
       "      <td>Located in the Astoria Arts District,  this 1 ...</td>\n",
       "      <td>Located in the Astoria Arts District,  you’ll ...</td>\n",
       "      <td>NaN</td>\n",
       "      <td>Best way to get around is the subway.  There’s...</td>\n",
       "      <td>Guests are welcome to use the full kitchen and...</td>\n",
       "      <td>I’m also happy to share a glass of wine with g...</td>\n",
       "      <td>...</td>\n",
       "      <td>t</td>\n",
       "      <td>f</td>\n",
       "      <td>strict_14_with_grace_period</td>\n",
       "      <td>f</td>\n",
       "      <td>f</td>\n",
       "      <td>1</td>\n",
       "      <td>0</td>\n",
       "      <td>1</td>\n",
       "      <td>0</td>\n",
       "      <td>0.61</td>\n",
       "    </tr>\n",
       "    <tr>\n",
       "      <th>2</th>\n",
       "      <td>19884380</td>\n",
       "      <td>&lt;SPACIOUS ROOM 19 MINUTES TO TIME SQUARE&gt;</td>\n",
       "      <td>An american Bedroom with Newyorker stile.  1 Q...</td>\n",
       "      <td>This is an incredible room with 2 windows givi...</td>\n",
       "      <td>An american Bedroom with Newyorker stile.  1 Q...</td>\n",
       "      <td>15 minutes to Central Park  20 to time Square ...</td>\n",
       "      <td>NaN</td>\n",
       "      <td>The number ! train is 2 blocks way from the ap...</td>\n",
       "      <td>The kitchen is ready for you to prepare any Me...</td>\n",
       "      <td>I’m always in contact with the guest by phone ...</td>\n",
       "      <td>...</td>\n",
       "      <td>f</td>\n",
       "      <td>f</td>\n",
       "      <td>strict_14_with_grace_period</td>\n",
       "      <td>f</td>\n",
       "      <td>f</td>\n",
       "      <td>4</td>\n",
       "      <td>0</td>\n",
       "      <td>4</td>\n",
       "      <td>0</td>\n",
       "      <td>3.56</td>\n",
       "    </tr>\n",
       "    <tr>\n",
       "      <th>3</th>\n",
       "      <td>35928387</td>\n",
       "      <td>&lt;True loft rental&gt;</td>\n",
       "      <td>Comfortable and cozy space over looking the ci...</td>\n",
       "      <td>Duplex bright loft with everything you need!</td>\n",
       "      <td>Comfortable and cozy space over looking the ci...</td>\n",
       "      <td>NaN</td>\n",
       "      <td>We do have  more past reviews available for a ...</td>\n",
       "      <td>5 minutes to the L train at the Morgan stop.  ...</td>\n",
       "      <td>The loft and the rooftop;)</td>\n",
       "      <td>NaN</td>\n",
       "      <td>...</td>\n",
       "      <td>f</td>\n",
       "      <td>f</td>\n",
       "      <td>moderate</td>\n",
       "      <td>t</td>\n",
       "      <td>t</td>\n",
       "      <td>1</td>\n",
       "      <td>1</td>\n",
       "      <td>0</td>\n",
       "      <td>0</td>\n",
       "      <td>0.04</td>\n",
       "    </tr>\n",
       "    <tr>\n",
       "      <th>4</th>\n",
       "      <td>16763347</td>\n",
       "      <td>&lt;Upper East Side Getaway! Lots of space!&gt;</td>\n",
       "      <td>LARGE common room,  TV,  couch,  chairs,  musi...</td>\n",
       "      <td>NaN</td>\n",
       "      <td>LARGE common room,  TV,  couch,  chairs,  musi...</td>\n",
       "      <td>NaN</td>\n",
       "      <td>NaN</td>\n",
       "      <td>NaN</td>\n",
       "      <td>NaN</td>\n",
       "      <td>NaN</td>\n",
       "      <td>...</td>\n",
       "      <td>f</td>\n",
       "      <td>f</td>\n",
       "      <td>flexible</td>\n",
       "      <td>f</td>\n",
       "      <td>f</td>\n",
       "      <td>1</td>\n",
       "      <td>1</td>\n",
       "      <td>0</td>\n",
       "      <td>0</td>\n",
       "      <td>0.72</td>\n",
       "    </tr>\n",
       "  </tbody>\n",
       "</table>\n",
       "<p>5 rows × 91 columns</p>\n",
       "</div>"
      ],
      "text/plain": [
       "         id                                           name  \\\n",
       "0   5935333                       <Williamsburg Apartment>   \n",
       "1  16656693  <Large 1 bedroom and private bath in Astoria>   \n",
       "2  19884380      <SPACIOUS ROOM 19 MINUTES TO TIME SQUARE>   \n",
       "3  35928387                             <True loft rental>   \n",
       "4  16763347      <Upper East Side Getaway! Lots of space!>   \n",
       "\n",
       "                                             summary  \\\n",
       "0  My place is close to L train and walking dista...   \n",
       "1  Located in the Astoria Arts District,  this 1 ...   \n",
       "2  An american Bedroom with Newyorker stile.  1 Q...   \n",
       "3  Comfortable and cozy space over looking the ci...   \n",
       "4  LARGE common room,  TV,  couch,  chairs,  musi...   \n",
       "\n",
       "                                               space  \\\n",
       "0                                                NaN   \n",
       "1  The bedroom includes a twin bed,  a TV,  dress...   \n",
       "2  This is an incredible room with 2 windows givi...   \n",
       "3       Duplex bright loft with everything you need!   \n",
       "4                                                NaN   \n",
       "\n",
       "                                         description  \\\n",
       "0  My place is close to L train and walking dista...   \n",
       "1  Located in the Astoria Arts District,  this 1 ...   \n",
       "2  An american Bedroom with Newyorker stile.  1 Q...   \n",
       "3  Comfortable and cozy space over looking the ci...   \n",
       "4  LARGE common room,  TV,  couch,  chairs,  musi...   \n",
       "\n",
       "                               neighborhood_overview  \\\n",
       "0                                                NaN   \n",
       "1  Located in the Astoria Arts District,  you’ll ...   \n",
       "2  15 minutes to Central Park  20 to time Square ...   \n",
       "3                                                NaN   \n",
       "4                                                NaN   \n",
       "\n",
       "                                               notes  \\\n",
       "0                                                NaN   \n",
       "1                                                NaN   \n",
       "2                                                NaN   \n",
       "3  We do have  more past reviews available for a ...   \n",
       "4                                                NaN   \n",
       "\n",
       "                                             transit  \\\n",
       "0                                                NaN   \n",
       "1  Best way to get around is the subway.  There’s...   \n",
       "2  The number ! train is 2 blocks way from the ap...   \n",
       "3  5 minutes to the L train at the Morgan stop.  ...   \n",
       "4                                                NaN   \n",
       "\n",
       "                                              access  \\\n",
       "0                                                NaN   \n",
       "1  Guests are welcome to use the full kitchen and...   \n",
       "2  The kitchen is ready for you to prepare any Me...   \n",
       "3                         The loft and the rooftop;)   \n",
       "4                                                NaN   \n",
       "\n",
       "                                         interaction  ... instant_bookable  \\\n",
       "0                                                NaN  ...                f   \n",
       "1  I’m also happy to share a glass of wine with g...  ...                t   \n",
       "2  I’m always in contact with the guest by phone ...  ...                f   \n",
       "3                                                NaN  ...                f   \n",
       "4                                                NaN  ...                f   \n",
       "\n",
       "  is_business_travel_ready          cancellation_policy  \\\n",
       "0                        f  strict_14_with_grace_period   \n",
       "1                        f  strict_14_with_grace_period   \n",
       "2                        f  strict_14_with_grace_period   \n",
       "3                        f                     moderate   \n",
       "4                        f                     flexible   \n",
       "\n",
       "  require_guest_profile_picture require_guest_phone_verification  \\\n",
       "0                             f                                f   \n",
       "1                             f                                f   \n",
       "2                             f                                f   \n",
       "3                             t                                t   \n",
       "4                             f                                f   \n",
       "\n",
       "  calculated_host_listings_count calculated_host_listings_count_entire_homes  \\\n",
       "0                              1                                           1   \n",
       "1                              1                                           0   \n",
       "2                              4                                           0   \n",
       "3                              1                                           1   \n",
       "4                              1                                           1   \n",
       "\n",
       "   calculated_host_listings_count_private_rooms  \\\n",
       "0                                             0   \n",
       "1                                             1   \n",
       "2                                             4   \n",
       "3                                             0   \n",
       "4                                             0   \n",
       "\n",
       "  calculated_host_listings_count_shared_rooms reviews_per_month  \n",
       "0                                           0              0.03  \n",
       "1                                           0              0.61  \n",
       "2                                           0              3.56  \n",
       "3                                           0              0.04  \n",
       "4                                           0              0.72  \n",
       "\n",
       "[5 rows x 91 columns]"
      ]
     },
     "execution_count": 107,
     "metadata": {},
     "output_type": "execute_result"
    }
   ],
   "source": [
    "airbnb = pd.read_csv('analysisData.csv')\n",
    "airbnb.head()"
   ]
  },
  {
   "cell_type": "code",
   "execution_count": 108,
   "id": "a62c9485",
   "metadata": {},
   "outputs": [
    {
     "data": {
      "text/plain": [
       "(39527, 91)"
      ]
     },
     "execution_count": 108,
     "metadata": {},
     "output_type": "execute_result"
    }
   ],
   "source": [
    "airbnb.shape"
   ]
  },
  {
   "cell_type": "markdown",
   "id": "1f254bb1",
   "metadata": {},
   "source": [
    "## Connect to the Postgresql"
   ]
  },
  {
   "cell_type": "code",
   "execution_count": 109,
   "id": "47e45ce2",
   "metadata": {},
   "outputs": [],
   "source": [
    "param_dic = {\n",
    "    \"host\"      : \"localhost\",\n",
    "    \"port\"      : \"5432\",\n",
    "    \"database\"  : \"airbnb\",\n",
    "    \"user\"      : \"postgres\",\n",
    "    \"password\"  : \"123\"\n",
    "}"
   ]
  },
  {
   "cell_type": "code",
   "execution_count": 110,
   "id": "28764ceb",
   "metadata": {},
   "outputs": [
    {
     "name": "stdout",
     "output_type": "stream",
     "text": [
      "Connecting to the PostgreSQL database...\n",
      "Connection successful\n"
     ]
    }
   ],
   "source": [
    "def connect(params_dic):\n",
    "    \"\"\" Connect to the PostgreSQL database server \"\"\"\n",
    "    conn = None\n",
    "    try:\n",
    "        # connect to the PostgreSQL server\n",
    "        print('Connecting to the PostgreSQL database...')\n",
    "        conn = psycopg2.connect(**params_dic)\n",
    "    except (Exception, psycopg2.DatabaseError) as error:\n",
    "        print(error)\n",
    "        sys.exit(1) \n",
    "    print(\"Connection successful\")\n",
    "    return conn\n",
    "conn = connect(param_dic)"
   ]
  },
  {
   "cell_type": "code",
   "execution_count": 111,
   "id": "35e5a4bc",
   "metadata": {},
   "outputs": [],
   "source": [
    "from sqlalchemy import create_engine\n",
    "\n",
    "connect = \"postgresql+psycopg2://%s:%s@%s:5432/%s\" % (\n",
    "    param_dic['user'],\n",
    "    param_dic['password'],\n",
    "    param_dic['host'],\n",
    "    param_dic['database']\n",
    ")\n",
    "\n",
    "def to_alchemy(df, name):\n",
    "    \"\"\"\n",
    "    Using a dummy table to test this call library\n",
    "    \"\"\"\n",
    "    engine = create_engine(connect)\n",
    "    df.to_sql(\n",
    "        name, \n",
    "        con=engine, \n",
    "        index=False, \n",
    "        if_exists='append'\n",
    "    )\n",
    "    print(\"to_sql() done (sqlalchemy)\")"
   ]
  },
  {
   "cell_type": "markdown",
   "id": "d7667201",
   "metadata": {},
   "source": [
    "## Create and transform 15 tables to the postgresql"
   ]
  },
  {
   "cell_type": "code",
   "execution_count": 26,
   "id": "91608437",
   "metadata": {},
   "outputs": [],
   "source": [
    "cur = conn.cursor()\n",
    "createCmd = \"\"\" \n",
    "\n",
    "\n",
    "create table population(\n",
    "borough_id varchar(10) primary key,\n",
    "borough_name varchar(50) not null,\n",
    "population_2020 bigint,\n",
    "population_share_of_NYC_in_2020 numeric\n",
    ");\n",
    "\n",
    "create table property(\n",
    "property_id varchar(10) primary key,\n",
    "property_type varchar(45)\n",
    " );\n",
    "\n",
    "\n",
    "create table room (\n",
    "room_id varchar(10) primary key,\n",
    "room_type varchar(100)\n",
    ");\n",
    "\n",
    "create table bed_type (\n",
    "bed_id varchar(10) primary key,\n",
    "type varchar(100)\n",
    ");\n",
    "\n",
    "create table neighbourhood (\n",
    "neighbour_id varchar(10) primary key,\n",
    "borough_id varchar(10),\n",
    "neighbourhood varchar(100)\n",
    ");\n",
    "\n",
    "\n",
    "create table house(\n",
    "house_id varchar(10) primary key,\n",
    "bedrooms int,\n",
    "beds int,\n",
    "price numeric,\n",
    "accommodates int\n",
    ");\n",
    "\n",
    "create table house_info (\n",
    "house_id varchar(10) primary key,\n",
    "property_id varchar(10),\n",
    "room_id varchar(10),\n",
    "borough_id varchar(10),\n",
    "bed_id varchar (10),\n",
    "neighbour_id varchar(10),\n",
    "foreign key (property_id) references property (property_id),\n",
    "foreign key (room_id) references room (room_id),\n",
    "foreign key (borough_id) references population (borough_id),\n",
    "foreign key (bed_id) references bed_type(bed_id),\n",
    "foreign key (neighbour_id) references neighbourhood(neighbour_id)\n",
    ");\n",
    "\n",
    "\n",
    "create table review(\n",
    "review_id varchar(10) references house(house_id),\n",
    "number_of_reviews int,\n",
    "review_scores_value int\n",
    ");\n",
    "\n",
    "create table host(\n",
    "house_id varchar(10) references house(house_id),\n",
    "host_name varchar(200),\n",
    "host_since date,\n",
    "host_is_superhost varchar(5)\n",
    ");\n",
    "\n",
    "create table policy(\n",
    "policy_id varchar(10) primary key,\n",
    "instant_bookable varchar(5),\n",
    "cancellation_policy varchar(255)\n",
    ");\n",
    "\n",
    "create table house_policy(\n",
    "house_id varchar(10),\n",
    "policy_id varchar (10),\n",
    "primary key (house_id, policy_id),\n",
    "constraint fk_house foreign key (house_id) references house (house_id),\n",
    "constraint fk_policy foreign key (policy_id) references policy (policy_id)\n",
    ");\n",
    "\n",
    "create table amenity(\n",
    "amenity_id varchar(10) references house (house_id),\n",
    "Wifi boolean,\n",
    "Heating boolean,\n",
    "TV boolean,\n",
    "Kitchen boolean\n",
    ");\n",
    "\n",
    "create table parks(\n",
    "park_id varchar(10) primary key,\n",
    "borough_id varchar(10),\n",
    "park_type varchar(50),\n",
    "foreign key (borough_id) references population (borough_id)\n",
    ");\n",
    "\n",
    "create table shooting_incident(\n",
    "incident_id varchar(10) primary key,\n",
    "borough_id varchar(10),\n",
    "occur_date date,\n",
    "murder varchar(5),\n",
    "foreign key (borough_id) references population (borough_id)\n",
    ");\n",
    "\n",
    "create table maintenance_fee(\n",
    "fee_id varchar(10) primary key,\n",
    "borough_id varchar(50),\n",
    "avg_amount int,\n",
    "foreign key (borough_id) references population (borough_id)\n",
    ");\n",
    "\"\"\"\n",
    "    \n",
    "cur.execute(createCmd)\n",
    "conn.commit()\n"
   ]
  },
  {
   "cell_type": "code",
   "execution_count": null,
   "id": "f06ad330",
   "metadata": {},
   "outputs": [],
   "source": []
  },
  {
   "cell_type": "markdown",
   "id": "5802401c",
   "metadata": {},
   "source": [
    "## Subset dataset"
   ]
  },
  {
   "cell_type": "code",
   "execution_count": 10,
   "id": "ad10e0da",
   "metadata": {
    "scrolled": true
   },
   "outputs": [
    {
     "data": {
      "text/plain": [
       "Index(['id', 'name', 'summary', 'space', 'description',\n",
       "       'neighborhood_overview', 'notes', 'transit', 'access', 'interaction',\n",
       "       'house_rules', 'host_name', 'host_since', 'host_location', 'host_about',\n",
       "       'host_response_time', 'host_response_rate', 'host_acceptance_rate',\n",
       "       'host_is_superhost', 'host_neighbourhood', 'host_listings_count',\n",
       "       'host_total_listings_count', 'host_verifications',\n",
       "       'host_has_profile_pic', 'host_identity_verified', 'street',\n",
       "       'neighbourhood', 'neighbourhood_cleansed',\n",
       "       'neighbourhood_group_cleansed', 'city', 'state', 'zipcode', 'market',\n",
       "       'smart_location', 'country_code', 'country', 'is_location_exact',\n",
       "       'property_type', 'room_type', 'accommodates', 'bathrooms', 'bedrooms',\n",
       "       'beds', 'bed_type', 'amenities', 'square_feet', 'price', 'weekly_price',\n",
       "       'monthly_price', 'security_deposit', 'cleaning_fee', 'guests_included',\n",
       "       'extra_people', 'minimum_nights', 'maximum_nights',\n",
       "       'minimum_minimum_nights', 'maximum_minimum_nights',\n",
       "       'minimum_maximum_nights', 'maximum_maximum_nights',\n",
       "       'minimum_nights_avg_ntm', 'maximum_nights_avg_ntm', 'calendar_updated',\n",
       "       'has_availability', 'availability_30', 'availability_60',\n",
       "       'availability_90', 'availability_365', 'number_of_reviews',\n",
       "       'number_of_reviews_ltm', 'first_review', 'last_review',\n",
       "       'review_scores_rating', 'review_scores_accuracy',\n",
       "       'review_scores_cleanliness', 'review_scores_checkin',\n",
       "       'review_scores_communication', 'review_scores_location',\n",
       "       'review_scores_value', 'requires_license', 'license',\n",
       "       'jurisdiction_names', 'instant_bookable', 'is_business_travel_ready',\n",
       "       'cancellation_policy', 'require_guest_profile_picture',\n",
       "       'require_guest_phone_verification', 'calculated_host_listings_count',\n",
       "       'calculated_host_listings_count_entire_homes',\n",
       "       'calculated_host_listings_count_private_rooms',\n",
       "       'calculated_host_listings_count_shared_rooms', 'reviews_per_month'],\n",
       "      dtype='object')"
      ]
     },
     "execution_count": 10,
     "metadata": {},
     "output_type": "execute_result"
    }
   ],
   "source": [
    "airbnb.columns"
   ]
  },
  {
   "cell_type": "markdown",
   "id": "272304ec",
   "metadata": {},
   "source": [
    "### Data cleanning and transforming values to each table in postgresql"
   ]
  },
  {
   "cell_type": "markdown",
   "id": "245244ef",
   "metadata": {},
   "source": [
    "#### property table "
   ]
  },
  {
   "cell_type": "code",
   "execution_count": 30,
   "id": "7eb24d69",
   "metadata": {},
   "outputs": [],
   "source": [
    "Property = airbnb[[\"property_type\"]]\n",
    "Property = Property.drop_duplicates().reset_index(drop=True)\n",
    "Property[\"property_id\"] = random.sample(range(1000,9999), Property.shape[0])"
   ]
  },
  {
   "cell_type": "code",
   "execution_count": 31,
   "id": "941133aa",
   "metadata": {},
   "outputs": [
    {
     "name": "stdout",
     "output_type": "stream",
     "text": [
      "to_sql() done (sqlalchemy)\n"
     ]
    }
   ],
   "source": [
    "to_alchemy(Property, \"property\")"
   ]
  },
  {
   "cell_type": "markdown",
   "id": "e5b460bf",
   "metadata": {},
   "source": [
    "#### room table"
   ]
  },
  {
   "cell_type": "code",
   "execution_count": 32,
   "id": "523395a1",
   "metadata": {},
   "outputs": [],
   "source": [
    "room = airbnb[[\"room_type\"]]\n",
    "room = room.drop_duplicates().reset_index(drop=True)\n",
    "room[\"room_id\"] = random.sample(range(1000,9999), room.shape[0])\n"
   ]
  },
  {
   "cell_type": "code",
   "execution_count": 33,
   "id": "c4c49abe",
   "metadata": {},
   "outputs": [
    {
     "name": "stdout",
     "output_type": "stream",
     "text": [
      "to_sql() done (sqlalchemy)\n"
     ]
    }
   ],
   "source": [
    "to_alchemy(room, \"room\")"
   ]
  },
  {
   "cell_type": "markdown",
   "id": "3e67a586",
   "metadata": {},
   "source": [
    "#### population table"
   ]
  },
  {
   "cell_type": "code",
   "execution_count": 34,
   "id": "d2fff89b",
   "metadata": {},
   "outputs": [],
   "source": [
    "population = pd.read_csv(\"New_York_City_Population_by_Borough__1950_-_2040.csv\")\n",
    "population = population[[\"Borough\",\"2020\",\"2020 - Boro share of NYC total\"]]\n",
    "population = population.rename(columns={\"Borough\":\"borough_name\",\n",
    "                           \"2020\":\"population_2020\",\n",
    "                           \"2020 - Boro share of NYC total\":\"population_share_of_nyc_in_2020\"})\n",
    "population[\"borough_name\"] = population[\"borough_name\"].str.strip()\n",
    "population[\"borough_id\"] = random.sample(range(1000,9999),population.shape[0])\n",
    "population = population.iloc[1:,:]"
   ]
  },
  {
   "cell_type": "code",
   "execution_count": 35,
   "id": "181410e7",
   "metadata": {},
   "outputs": [
    {
     "data": {
      "text/html": [
       "<div>\n",
       "<style scoped>\n",
       "    .dataframe tbody tr th:only-of-type {\n",
       "        vertical-align: middle;\n",
       "    }\n",
       "\n",
       "    .dataframe tbody tr th {\n",
       "        vertical-align: top;\n",
       "    }\n",
       "\n",
       "    .dataframe thead th {\n",
       "        text-align: right;\n",
       "    }\n",
       "</style>\n",
       "<table border=\"1\" class=\"dataframe\">\n",
       "  <thead>\n",
       "    <tr style=\"text-align: right;\">\n",
       "      <th></th>\n",
       "      <th>borough_name</th>\n",
       "      <th>population_2020</th>\n",
       "      <th>population_share_of_nyc_in_2020</th>\n",
       "      <th>borough_id</th>\n",
       "    </tr>\n",
       "  </thead>\n",
       "  <tbody>\n",
       "    <tr>\n",
       "      <th>1</th>\n",
       "      <td>Bronx</td>\n",
       "      <td>1446788</td>\n",
       "      <td>16.92</td>\n",
       "      <td>1077</td>\n",
       "    </tr>\n",
       "    <tr>\n",
       "      <th>2</th>\n",
       "      <td>Brooklyn</td>\n",
       "      <td>2648452</td>\n",
       "      <td>30.97</td>\n",
       "      <td>8656</td>\n",
       "    </tr>\n",
       "    <tr>\n",
       "      <th>3</th>\n",
       "      <td>Manhattan</td>\n",
       "      <td>1638281</td>\n",
       "      <td>19.16</td>\n",
       "      <td>7332</td>\n",
       "    </tr>\n",
       "    <tr>\n",
       "      <th>4</th>\n",
       "      <td>Queens</td>\n",
       "      <td>2330295</td>\n",
       "      <td>27.25</td>\n",
       "      <td>2870</td>\n",
       "    </tr>\n",
       "    <tr>\n",
       "      <th>5</th>\n",
       "      <td>Staten Island</td>\n",
       "      <td>487155</td>\n",
       "      <td>5.70</td>\n",
       "      <td>9331</td>\n",
       "    </tr>\n",
       "  </tbody>\n",
       "</table>\n",
       "</div>"
      ],
      "text/plain": [
       "    borough_name  population_2020  population_share_of_nyc_in_2020  borough_id\n",
       "1          Bronx          1446788                            16.92        1077\n",
       "2       Brooklyn          2648452                            30.97        8656\n",
       "3      Manhattan          1638281                            19.16        7332\n",
       "4         Queens          2330295                            27.25        2870\n",
       "5  Staten Island           487155                             5.70        9331"
      ]
     },
     "execution_count": 35,
     "metadata": {},
     "output_type": "execute_result"
    }
   ],
   "source": [
    "population "
   ]
  },
  {
   "cell_type": "code",
   "execution_count": 36,
   "id": "0a9309d1",
   "metadata": {},
   "outputs": [
    {
     "name": "stdout",
     "output_type": "stream",
     "text": [
      "to_sql() done (sqlalchemy)\n"
     ]
    }
   ],
   "source": [
    "to_alchemy(population, \"population\")"
   ]
  },
  {
   "cell_type": "markdown",
   "id": "676e02ae",
   "metadata": {},
   "source": [
    "#### bed_type table"
   ]
  },
  {
   "cell_type": "code",
   "execution_count": 37,
   "id": "c70c91d7",
   "metadata": {},
   "outputs": [],
   "source": [
    "bed_type = airbnb[[\"bed_type\"]]\n",
    "bed_type = bed_type.drop_duplicates().reset_index(drop=True)\n",
    "bed_type[\"bed_id\"] = random.sample(range(1000,9999), bed_type.shape[0])\n",
    "bed_type = bed_type.rename(columns={\"bed_type\":\"type\"})"
   ]
  },
  {
   "cell_type": "code",
   "execution_count": 38,
   "id": "3c6e72c7",
   "metadata": {},
   "outputs": [
    {
     "name": "stdout",
     "output_type": "stream",
     "text": [
      "to_sql() done (sqlalchemy)\n"
     ]
    }
   ],
   "source": [
    "to_alchemy(bed_type,\"bed_type\")"
   ]
  },
  {
   "cell_type": "markdown",
   "id": "e1f6da01",
   "metadata": {},
   "source": [
    "#### neighborhood table"
   ]
  },
  {
   "cell_type": "code",
   "execution_count": 39,
   "id": "b9641e36",
   "metadata": {},
   "outputs": [],
   "source": [
    "neighbourhood = pd.read_csv('/Users/zhaoyilu/Desktop/5310 sql project/neighbourhoods.csv')\n",
    "neighbourhood = pd.merge(neighbourhood, population, how='left', left_on=[\"neighbourhood_group\"],\n",
    "                       right_on=[\"borough_name\"])\n",
    "neighbourhood = neighbourhood[[\"borough_name\", \"neighbourhood\",\"borough_id\"]]\n",
    "neighbourhood[\"neighbour_id\"] = random.sample(range(1000,9999), neighbourhood.shape[0])\n",
    "neighbourhood = neighbourhood[[\"neighbourhood\",\"borough_id\",\"neighbour_id\"]]"
   ]
  },
  {
   "cell_type": "code",
   "execution_count": 40,
   "id": "5f22b3de",
   "metadata": {},
   "outputs": [
    {
     "name": "stdout",
     "output_type": "stream",
     "text": [
      "to_sql() done (sqlalchemy)\n"
     ]
    }
   ],
   "source": [
    "to_alchemy(neighbourhood,\"neighbourhood\")"
   ]
  },
  {
   "cell_type": "markdown",
   "id": "be17243b",
   "metadata": {},
   "source": [
    "#### house table"
   ]
  },
  {
   "cell_type": "code",
   "execution_count": 41,
   "id": "216c4e11",
   "metadata": {},
   "outputs": [],
   "source": [
    "house = airbnb[[\"id\",\"property_type\",\"room_type\",\"neighbourhood_group_cleansed\",\"bedrooms\",\"beds\",\n",
    "                \"price\",\"accommodates\",\"bed_type\",\"neighbourhood_cleansed\"]]\n",
    "house = pd.merge(house, Property, how=\"left\",left_on=[\"property_type\"], right_on=[\"property_type\"])\n",
    "house = pd.merge(house, room, how=\"left\",left_on=[\"room_type\"], right_on=[\"room_type\"])\n",
    "house = pd.merge(house, population, how=\"left\",left_on=[\"neighbourhood_group_cleansed\"],\n",
    "                right_on=[\"borough_name\"])\n",
    "house = pd.merge(house, bed_type, how=\"left\",left_on=[\"bed_type\"],right_on=[\"type\"])\n",
    "house = pd.merge(house, neighbourhood[[\"neighbour_id\",\"neighbourhood\"]], how='left', left_on=[\"neighbourhood_cleansed\"],\n",
    "                right_on=[\"neighbourhood\"])\n",
    "house = house[[\"id\",\"property_id\",\"room_id\",\"borough_id\",\"neighbour_id\",\"bedrooms\",\n",
    "              \"beds\",\"bed_id\",\"price\",\"accommodates\"]]\n",
    "house = house.rename(columns={\"id\":\"house_id\"})"
   ]
  },
  {
   "cell_type": "markdown",
   "id": "8e5e839b",
   "metadata": {},
   "source": [
    "#### house_info table"
   ]
  },
  {
   "cell_type": "code",
   "execution_count": 42,
   "id": "f490b4ed",
   "metadata": {},
   "outputs": [],
   "source": [
    "house_info = house[[\"house_id\",\"property_id\",\"room_id\",\"borough_id\",\"neighbour_id\",\"bed_id\"]]"
   ]
  },
  {
   "cell_type": "code",
   "execution_count": 43,
   "id": "db97850c",
   "metadata": {},
   "outputs": [
    {
     "name": "stdout",
     "output_type": "stream",
     "text": [
      "to_sql() done (sqlalchemy)\n"
     ]
    }
   ],
   "source": [
    "to_alchemy(house_info,\"house_info\")"
   ]
  },
  {
   "cell_type": "markdown",
   "id": "3d790925",
   "metadata": {},
   "source": [
    "#### transform house table value "
   ]
  },
  {
   "cell_type": "code",
   "execution_count": 44,
   "id": "7e8645d0",
   "metadata": {},
   "outputs": [],
   "source": [
    "house = house[[\"house_id\", \"bedrooms\",\"beds\",\"price\",\"accommodates\"]]"
   ]
  },
  {
   "cell_type": "code",
   "execution_count": 45,
   "id": "f4a87b2e",
   "metadata": {},
   "outputs": [
    {
     "name": "stdout",
     "output_type": "stream",
     "text": [
      "to_sql() done (sqlalchemy)\n"
     ]
    }
   ],
   "source": [
    "to_alchemy(house,\"house\")"
   ]
  },
  {
   "cell_type": "markdown",
   "id": "470d5138",
   "metadata": {},
   "source": [
    "#### review table"
   ]
  },
  {
   "cell_type": "code",
   "execution_count": 46,
   "id": "32fa2300",
   "metadata": {},
   "outputs": [],
   "source": [
    "review = airbnb[[\"id\",\"number_of_reviews\",\"review_scores_value\"]]\n",
    "review = review.rename(columns={\"id\":\"review_id\"})"
   ]
  },
  {
   "cell_type": "code",
   "execution_count": 47,
   "id": "a15ca934",
   "metadata": {},
   "outputs": [
    {
     "name": "stdout",
     "output_type": "stream",
     "text": [
      "to_sql() done (sqlalchemy)\n"
     ]
    }
   ],
   "source": [
    "to_alchemy(review,\"review\")"
   ]
  },
  {
   "cell_type": "markdown",
   "id": "b3eb3909",
   "metadata": {},
   "source": [
    "#### host table"
   ]
  },
  {
   "cell_type": "code",
   "execution_count": 48,
   "id": "fc98bd91",
   "metadata": {},
   "outputs": [],
   "source": [
    "host = airbnb[[\"id\",\"host_name\",\"host_since\",\"host_is_superhost\"]]\n",
    "host = host.rename(columns={\"id\":\"house_id\"})"
   ]
  },
  {
   "cell_type": "code",
   "execution_count": 49,
   "id": "10ea15ad",
   "metadata": {},
   "outputs": [
    {
     "name": "stdout",
     "output_type": "stream",
     "text": [
      "to_sql() done (sqlalchemy)\n"
     ]
    }
   ],
   "source": [
    "to_alchemy(host,\"host\")"
   ]
  },
  {
   "cell_type": "markdown",
   "id": "2db96c0c",
   "metadata": {},
   "source": [
    "#### policy table"
   ]
  },
  {
   "cell_type": "code",
   "execution_count": 50,
   "id": "2eb0686d",
   "metadata": {},
   "outputs": [],
   "source": [
    "policy = airbnb[[\"instant_bookable\",\"cancellation_policy\"]]\n",
    "policy = policy.drop_duplicates().reset_index(drop=True)\n",
    "policy[\"policy_id\"] = random.sample(range(1000,9999),policy.shape[0])"
   ]
  },
  {
   "cell_type": "code",
   "execution_count": 51,
   "id": "63cbab49",
   "metadata": {},
   "outputs": [
    {
     "name": "stdout",
     "output_type": "stream",
     "text": [
      "to_sql() done (sqlalchemy)\n"
     ]
    }
   ],
   "source": [
    "to_alchemy (policy,\"policy\")"
   ]
  },
  {
   "cell_type": "markdown",
   "id": "94cf847b",
   "metadata": {},
   "source": [
    "#### house_policy table"
   ]
  },
  {
   "cell_type": "code",
   "execution_count": 52,
   "id": "109e896f",
   "metadata": {},
   "outputs": [],
   "source": [
    "house_policy = airbnb[[\"id\",\"instant_bookable\",\"cancellation_policy\"]]\n",
    "house_policy = pd.merge(house_policy, policy, how=\"left\",\n",
    "                        left_on=[\"instant_bookable\",\"cancellation_policy\"],\n",
    "                       right_on=[\"instant_bookable\",\"cancellation_policy\"])\n",
    "house_policy = house_policy[[\"id\",\"policy_id\"]]\n",
    "house_policy = house_policy.rename(columns={\"id\":\"house_id\"})"
   ]
  },
  {
   "cell_type": "code",
   "execution_count": 53,
   "id": "901172ce",
   "metadata": {},
   "outputs": [
    {
     "name": "stdout",
     "output_type": "stream",
     "text": [
      "to_sql() done (sqlalchemy)\n"
     ]
    }
   ],
   "source": [
    "to_alchemy(house_policy,\"house_policy\")"
   ]
  },
  {
   "cell_type": "markdown",
   "id": "cf537b9f",
   "metadata": {},
   "source": [
    "#### amenity table"
   ]
  },
  {
   "cell_type": "code",
   "execution_count": 54,
   "id": "cf710cf7",
   "metadata": {
    "scrolled": true
   },
   "outputs": [
    {
     "name": "stderr",
     "output_type": "stream",
     "text": [
      "/opt/anaconda3/lib/python3.7/site-packages/ipykernel_launcher.py:2: SettingWithCopyWarning: \n",
      "A value is trying to be set on a copy of a slice from a DataFrame.\n",
      "Try using .loc[row_indexer,col_indexer] = value instead\n",
      "\n",
      "See the caveats in the documentation: https://pandas.pydata.org/pandas-docs/stable/user_guide/indexing.html#returning-a-view-versus-a-copy\n",
      "  \n",
      "/opt/anaconda3/lib/python3.7/site-packages/ipykernel_launcher.py:16: SettingWithCopyWarning: \n",
      "A value is trying to be set on a copy of a slice from a DataFrame.\n",
      "Try using .loc[row_indexer,col_indexer] = value instead\n",
      "\n",
      "See the caveats in the documentation: https://pandas.pydata.org/pandas-docs/stable/user_guide/indexing.html#returning-a-view-versus-a-copy\n",
      "  app.launch_new_instance()\n"
     ]
    }
   ],
   "source": [
    "amenity = airbnb[[\"id\",\"amenities\"]]\n",
    "amenity[\"amenities\"] = amenity[\"amenities\"].apply(lambda x: str(x).split(\",\"))\n",
    "amenity_list = [\"Wifi\",\"Heating\",\"TV\",\"Kitchen\"]\n",
    "\n",
    "def clean_text(l):\n",
    "    for i in range(len(l)):\n",
    "        l[i] = l[i].strip()\n",
    "        l[i] = l[i].replace(\".\",\"\")\n",
    "        l[i] = l[i].replace(\" \",\"\")\n",
    "    temp = []\n",
    "    for j in l:\n",
    "        if j in amenity_list:\n",
    "            temp.append(j)\n",
    "    return list(set(temp))\n",
    "\n",
    "amenity[\"amenities\"] = amenity[\"amenities\"].apply(lambda x: clean_text(x))\n",
    "mlb = MultiLabelBinarizer()\n",
    "temp = pd.DataFrame(mlb.fit_transform(amenity.amenities),columns=mlb.classes_)\n",
    "temp = temp == 1\n",
    "amenity = pd.concat([amenity, temp],axis=1)\n",
    "amenity = amenity.drop([\"amenities\"],axis=1)\n",
    "amenity = amenity.rename(columns = {\"id\":\"amenity_id\"})\n",
    "amenity = amenity.rename(columns = {\"Wifi\":\"wifi\",\"Heating\":\"heating\",\"TV\":\"tv\",\"Kitchen\":\"kitchen\"})"
   ]
  },
  {
   "cell_type": "code",
   "execution_count": 55,
   "id": "f23872f9",
   "metadata": {},
   "outputs": [
    {
     "data": {
      "text/html": [
       "<div>\n",
       "<style scoped>\n",
       "    .dataframe tbody tr th:only-of-type {\n",
       "        vertical-align: middle;\n",
       "    }\n",
       "\n",
       "    .dataframe tbody tr th {\n",
       "        vertical-align: top;\n",
       "    }\n",
       "\n",
       "    .dataframe thead th {\n",
       "        text-align: right;\n",
       "    }\n",
       "</style>\n",
       "<table border=\"1\" class=\"dataframe\">\n",
       "  <thead>\n",
       "    <tr style=\"text-align: right;\">\n",
       "      <th></th>\n",
       "      <th>amenity_id</th>\n",
       "      <th>heating</th>\n",
       "      <th>kitchen</th>\n",
       "      <th>tv</th>\n",
       "      <th>wifi</th>\n",
       "    </tr>\n",
       "  </thead>\n",
       "  <tbody>\n",
       "    <tr>\n",
       "      <th>0</th>\n",
       "      <td>5935333</td>\n",
       "      <td>True</td>\n",
       "      <td>True</td>\n",
       "      <td>True</td>\n",
       "      <td>True</td>\n",
       "    </tr>\n",
       "    <tr>\n",
       "      <th>1</th>\n",
       "      <td>16656693</td>\n",
       "      <td>True</td>\n",
       "      <td>True</td>\n",
       "      <td>True</td>\n",
       "      <td>True</td>\n",
       "    </tr>\n",
       "    <tr>\n",
       "      <th>2</th>\n",
       "      <td>19884380</td>\n",
       "      <td>True</td>\n",
       "      <td>True</td>\n",
       "      <td>True</td>\n",
       "      <td>True</td>\n",
       "    </tr>\n",
       "    <tr>\n",
       "      <th>3</th>\n",
       "      <td>35928387</td>\n",
       "      <td>True</td>\n",
       "      <td>True</td>\n",
       "      <td>True</td>\n",
       "      <td>True</td>\n",
       "    </tr>\n",
       "    <tr>\n",
       "      <th>4</th>\n",
       "      <td>16763347</td>\n",
       "      <td>True</td>\n",
       "      <td>True</td>\n",
       "      <td>True</td>\n",
       "      <td>True</td>\n",
       "    </tr>\n",
       "    <tr>\n",
       "      <th>...</th>\n",
       "      <td>...</td>\n",
       "      <td>...</td>\n",
       "      <td>...</td>\n",
       "      <td>...</td>\n",
       "      <td>...</td>\n",
       "    </tr>\n",
       "    <tr>\n",
       "      <th>39522</th>\n",
       "      <td>17394978</td>\n",
       "      <td>True</td>\n",
       "      <td>False</td>\n",
       "      <td>True</td>\n",
       "      <td>True</td>\n",
       "    </tr>\n",
       "    <tr>\n",
       "      <th>39523</th>\n",
       "      <td>17636257</td>\n",
       "      <td>True</td>\n",
       "      <td>False</td>\n",
       "      <td>False</td>\n",
       "      <td>True</td>\n",
       "    </tr>\n",
       "    <tr>\n",
       "      <th>39524</th>\n",
       "      <td>19560004</td>\n",
       "      <td>True</td>\n",
       "      <td>True</td>\n",
       "      <td>False</td>\n",
       "      <td>True</td>\n",
       "    </tr>\n",
       "    <tr>\n",
       "      <th>39525</th>\n",
       "      <td>6459378</td>\n",
       "      <td>True</td>\n",
       "      <td>True</td>\n",
       "      <td>True</td>\n",
       "      <td>True</td>\n",
       "    </tr>\n",
       "    <tr>\n",
       "      <th>39526</th>\n",
       "      <td>35683122</td>\n",
       "      <td>True</td>\n",
       "      <td>True</td>\n",
       "      <td>False</td>\n",
       "      <td>True</td>\n",
       "    </tr>\n",
       "  </tbody>\n",
       "</table>\n",
       "<p>39527 rows × 5 columns</p>\n",
       "</div>"
      ],
      "text/plain": [
       "       amenity_id  heating  kitchen     tv  wifi\n",
       "0         5935333     True     True   True  True\n",
       "1        16656693     True     True   True  True\n",
       "2        19884380     True     True   True  True\n",
       "3        35928387     True     True   True  True\n",
       "4        16763347     True     True   True  True\n",
       "...           ...      ...      ...    ...   ...\n",
       "39522    17394978     True    False   True  True\n",
       "39523    17636257     True    False  False  True\n",
       "39524    19560004     True     True  False  True\n",
       "39525     6459378     True     True   True  True\n",
       "39526    35683122     True     True  False  True\n",
       "\n",
       "[39527 rows x 5 columns]"
      ]
     },
     "execution_count": 55,
     "metadata": {},
     "output_type": "execute_result"
    }
   ],
   "source": [
    "amenity"
   ]
  },
  {
   "cell_type": "code",
   "execution_count": 56,
   "id": "fcce34d6",
   "metadata": {},
   "outputs": [
    {
     "name": "stdout",
     "output_type": "stream",
     "text": [
      "to_sql() done (sqlalchemy)\n"
     ]
    }
   ],
   "source": [
    "to_alchemy(amenity,\"amenity\")"
   ]
  },
  {
   "cell_type": "markdown",
   "id": "bfab6e27",
   "metadata": {},
   "source": [
    "#### parks table"
   ]
  },
  {
   "cell_type": "code",
   "execution_count": 57,
   "id": "f2ed77ca",
   "metadata": {},
   "outputs": [],
   "source": [
    "parks = pd.read_csv(\"Parks_Properties.csv\")\n",
    "parks = parks[[\"BOROUGH\",\"TYPECATEGORY\"]]\n",
    "parks[\"BOROUGH\"] = parks[\"BOROUGH\"].map({\"B\":\"Brooklyn\",\"Q\":\"Queens\",\"X\":\"Bronx\",\n",
    "                                         \"M\":\"Manhattan\",\"R\":\"Staten Island\"})\n",
    "parks = parks.rename(columns={\"BOROUGH\":\"borough_name\",\"TYPECATEGORY\":\"park_type\"})\n",
    "parks = pd.merge(parks, population[[\"borough_name\",\"borough_id\"]], how='left', \n",
    "                 left_on=[\"borough_name\"], right_on=[\"borough_name\"])\n",
    "parks[\"park_id\"] = random.sample(range(1000,9999),parks.shape[0])\n",
    "parks = parks.drop([\"borough_name\"],axis=1)"
   ]
  },
  {
   "cell_type": "code",
   "execution_count": 58,
   "id": "275d8d22",
   "metadata": {},
   "outputs": [
    {
     "name": "stdout",
     "output_type": "stream",
     "text": [
      "to_sql() done (sqlalchemy)\n"
     ]
    }
   ],
   "source": [
    "to_alchemy(parks,\"parks\")"
   ]
  },
  {
   "cell_type": "markdown",
   "id": "54c653b5",
   "metadata": {},
   "source": [
    "#### shooting_incident table"
   ]
  },
  {
   "cell_type": "code",
   "execution_count": 59,
   "id": "45992e0b",
   "metadata": {},
   "outputs": [],
   "source": [
    "shooting_incident = pd.read_csv(\"NYPD Shooting Incident - Data 2006-2021.csv\")\n",
    "shooting_incident = shooting_incident[[\"OCCUR_DATE\",\"STATISTICAL_MURDER_FLAG\",\"BORO\"]]\n",
    "shooting_incident[\"BORO\"] = shooting_incident.BORO.str.title()\n",
    "shooting_incident = pd.merge(shooting_incident, population[[\"borough_name\",\"borough_id\"]],\n",
    "                            how='left', left_on=[\"BORO\"], right_on=[\"borough_name\"])\n",
    "shooting_incident = shooting_incident[[\"OCCUR_DATE\", \"STATISTICAL_MURDER_FLAG\", \"borough_id\"]]\n",
    "shooting_incident = shooting_incident.rename(columns={\"OCCUR_DATE\":\"occur_date\",\n",
    "                                                      \"STATISTICAL_MURDER_FLAG\":\"murder\"})\n",
    "shooting_incident[\"incident_id\"] = random.sample(range(1000,99999), shooting_incident.shape[0])"
   ]
  },
  {
   "cell_type": "code",
   "execution_count": 60,
   "id": "d088da66",
   "metadata": {},
   "outputs": [
    {
     "name": "stdout",
     "output_type": "stream",
     "text": [
      "to_sql() done (sqlalchemy)\n"
     ]
    }
   ],
   "source": [
    "to_alchemy(shooting_incident,\"shooting_incident\")"
   ]
  },
  {
   "cell_type": "markdown",
   "id": "c96cf0c1",
   "metadata": {},
   "source": [
    "#### maintenance_fee table"
   ]
  },
  {
   "cell_type": "code",
   "execution_count": 61,
   "id": "5384772f",
   "metadata": {},
   "outputs": [],
   "source": [
    "maintenance_fee = pd.read_csv(\"Fee_Charges.csv\")\n",
    "maintenance_fee = maintenance_fee[[\"Boro\",\"FeeAmount\"]]\n",
    "maintenance_fee = pd.DataFrame(maintenance_fee.groupby(\"Boro\")[\"FeeAmount\"].mean()).reset_index()\n",
    "maintenance_fee = maintenance_fee.rename(columns={\"Boro\":\"borough_name\",\"FeeAmount\":\"avg_amount\"})\n",
    "maintenance_fee[\"avg_amount\"] = maintenance_fee[\"avg_amount\"].astype(\"int\")\n",
    "maintenance_fee[\"borough_name\"] = maintenance_fee[\"borough_name\"].str.title()\n",
    "maintenance_fee = pd.merge(maintenance_fee, population[[\"borough_name\",\"borough_id\"]],\n",
    "                          how=\"left\",left_on=[\"borough_name\"], right_on=[\"borough_name\"])\n",
    "maintenance_fee = maintenance_fee[[\"borough_id\", \"avg_amount\"]]\n",
    "maintenance_fee[\"fee_id\"] = random.sample(range(1000,9999),maintenance_fee.shape[0])"
   ]
  },
  {
   "cell_type": "code",
   "execution_count": 62,
   "id": "5b5c69b7",
   "metadata": {},
   "outputs": [
    {
     "name": "stdout",
     "output_type": "stream",
     "text": [
      "to_sql() done (sqlalchemy)\n"
     ]
    }
   ],
   "source": [
    "to_alchemy(maintenance_fee,\"maintenance_fee\")"
   ]
  },
  {
   "cell_type": "code",
   "execution_count": null,
   "id": "8b759b93",
   "metadata": {},
   "outputs": [],
   "source": []
  },
  {
   "cell_type": "markdown",
   "id": "b7cb373a",
   "metadata": {},
   "source": [
    "### 10 questions "
   ]
  },
  {
   "cell_type": "markdown",
   "id": "3fbc762b",
   "metadata": {},
   "source": [
    "#### 1. What’s the relationship between shooting_incident and rental price in each borough? \n"
   ]
  },
  {
   "cell_type": "code",
   "execution_count": 74,
   "id": "8af8dcf6",
   "metadata": {},
   "outputs": [],
   "source": [
    "# Establish a connection\n",
    "cur = conn.cursor()\n",
    "view1 = \"\"\"\n",
    "create view incident_borough as\n",
    "select po.borough_id, po.borough_name, count(s.murder) as incident_number \n",
    "from population po join shooting_incident s on po.borough_id = s.borough_id \n",
    "group by po.borough_id;\n",
    "\n",
    "create view house_type as \n",
    "select HI.borough_id, avg(h.price) as avg_price\n",
    "from house h join house_info HI on h.house_id = HI.house_id\n",
    "join property p on HI.property_id = p.property_id \n",
    "group by HI.borough_id;\n",
    "\n",
    "\n",
    "\"\"\"\n",
    "cur.execute(view1)\n",
    "conn.commit()"
   ]
  },
  {
   "cell_type": "code",
   "execution_count": 75,
   "id": "04912d81",
   "metadata": {},
   "outputs": [
    {
     "data": {
      "text/html": [
       "<div>\n",
       "<style scoped>\n",
       "    .dataframe tbody tr th:only-of-type {\n",
       "        vertical-align: middle;\n",
       "    }\n",
       "\n",
       "    .dataframe tbody tr th {\n",
       "        vertical-align: top;\n",
       "    }\n",
       "\n",
       "    .dataframe thead th {\n",
       "        text-align: right;\n",
       "    }\n",
       "</style>\n",
       "<table border=\"1\" class=\"dataframe\">\n",
       "  <thead>\n",
       "    <tr style=\"text-align: right;\">\n",
       "      <th></th>\n",
       "      <th>avg_price</th>\n",
       "      <th>incident_number</th>\n",
       "      <th>borough_name</th>\n",
       "    </tr>\n",
       "  </thead>\n",
       "  <tbody>\n",
       "    <tr>\n",
       "      <th>0</th>\n",
       "      <td>174.7414802065404475</td>\n",
       "      <td>2974</td>\n",
       "      <td>Manhattan</td>\n",
       "    </tr>\n",
       "    <tr>\n",
       "      <th>1</th>\n",
       "      <td>85.0844155844155844</td>\n",
       "      <td>703</td>\n",
       "      <td>Staten Island</td>\n",
       "    </tr>\n",
       "    <tr>\n",
       "      <th>2</th>\n",
       "      <td>115.4558475526217462</td>\n",
       "      <td>9826</td>\n",
       "      <td>Brooklyn</td>\n",
       "    </tr>\n",
       "    <tr>\n",
       "      <th>3</th>\n",
       "      <td>75.1549295774647887</td>\n",
       "      <td>6794</td>\n",
       "      <td>Bronx</td>\n",
       "    </tr>\n",
       "    <tr>\n",
       "      <th>4</th>\n",
       "      <td>90.7379367720465890</td>\n",
       "      <td>3568</td>\n",
       "      <td>Queens</td>\n",
       "    </tr>\n",
       "  </tbody>\n",
       "</table>\n",
       "</div>"
      ],
      "text/plain": [
       "              avg_price  incident_number   borough_name\n",
       "0  174.7414802065404475             2974      Manhattan\n",
       "1   85.0844155844155844              703  Staten Island\n",
       "2  115.4558475526217462             9826       Brooklyn\n",
       "3   75.1549295774647887             6794          Bronx\n",
       "4   90.7379367720465890             3568         Queens"
      ]
     },
     "execution_count": 75,
     "metadata": {},
     "output_type": "execute_result"
    }
   ],
   "source": [
    "# Execute the statement and get the results:\n",
    "cur.execute(\n",
    "    \"\"\" \n",
    "       select ht.avg_price, ib.incident_number, ib.borough_name \n",
    "        from house_type ht join incident_borough ib \n",
    "        on ht.borough_id = ib.borough_id\n",
    "    \"\"\"\n",
    ")\n",
    "\n",
    "rows = cur.fetchall()\n",
    "colname = [desc[0] for desc in cur.description]\n",
    "\n",
    "df=pd.DataFrame(rows, columns=colname)\n",
    "\n",
    "df\n"
   ]
  },
  {
   "cell_type": "markdown",
   "id": "ae2c0f1b",
   "metadata": {},
   "source": [
    "#### 2. What is the average price of each property type?"
   ]
  },
  {
   "cell_type": "code",
   "execution_count": 76,
   "id": "384135bd",
   "metadata": {},
   "outputs": [
    {
     "data": {
      "text/html": [
       "<div>\n",
       "<style scoped>\n",
       "    .dataframe tbody tr th:only-of-type {\n",
       "        vertical-align: middle;\n",
       "    }\n",
       "\n",
       "    .dataframe tbody tr th {\n",
       "        vertical-align: top;\n",
       "    }\n",
       "\n",
       "    .dataframe thead th {\n",
       "        text-align: right;\n",
       "    }\n",
       "</style>\n",
       "<table border=\"1\" class=\"dataframe\">\n",
       "  <thead>\n",
       "    <tr style=\"text-align: right;\">\n",
       "      <th></th>\n",
       "      <th>avg_price</th>\n",
       "      <th>property_type</th>\n",
       "    </tr>\n",
       "  </thead>\n",
       "  <tbody>\n",
       "    <tr>\n",
       "      <th>0</th>\n",
       "      <td>750.0000000000000000</td>\n",
       "      <td>Lighthouse</td>\n",
       "    </tr>\n",
       "    <tr>\n",
       "      <th>1</th>\n",
       "      <td>493.7560975609756098</td>\n",
       "      <td>Resort</td>\n",
       "    </tr>\n",
       "    <tr>\n",
       "      <th>2</th>\n",
       "      <td>425.0000000000000000</td>\n",
       "      <td>Timeshare</td>\n",
       "    </tr>\n",
       "    <tr>\n",
       "      <th>3</th>\n",
       "      <td>350.0000000000000000</td>\n",
       "      <td>Tent</td>\n",
       "    </tr>\n",
       "    <tr>\n",
       "      <th>4</th>\n",
       "      <td>325.0000000000000000</td>\n",
       "      <td>Farm stay</td>\n",
       "    </tr>\n",
       "    <tr>\n",
       "      <th>5</th>\n",
       "      <td>280.0000000000000000</td>\n",
       "      <td>Houseboat</td>\n",
       "    </tr>\n",
       "    <tr>\n",
       "      <th>6</th>\n",
       "      <td>207.3828756058158320</td>\n",
       "      <td>Loft</td>\n",
       "    </tr>\n",
       "    <tr>\n",
       "      <th>7</th>\n",
       "      <td>205.9512195121951220</td>\n",
       "      <td>Serviced apartment</td>\n",
       "    </tr>\n",
       "    <tr>\n",
       "      <th>8</th>\n",
       "      <td>204.7424242424242424</td>\n",
       "      <td>Hotel</td>\n",
       "    </tr>\n",
       "    <tr>\n",
       "      <th>9</th>\n",
       "      <td>197.9333333333333333</td>\n",
       "      <td>Boutique hotel</td>\n",
       "    </tr>\n",
       "    <tr>\n",
       "      <th>10</th>\n",
       "      <td>197.1111111111111111</td>\n",
       "      <td>Aparthotel</td>\n",
       "    </tr>\n",
       "    <tr>\n",
       "      <th>11</th>\n",
       "      <td>188.7500000000000000</td>\n",
       "      <td>Cottage</td>\n",
       "    </tr>\n",
       "    <tr>\n",
       "      <th>12</th>\n",
       "      <td>184.0081766148814391</td>\n",
       "      <td>Condominium</td>\n",
       "    </tr>\n",
       "    <tr>\n",
       "      <th>13</th>\n",
       "      <td>153.1111111111111111</td>\n",
       "      <td>Boat</td>\n",
       "    </tr>\n",
       "    <tr>\n",
       "      <th>14</th>\n",
       "      <td>140.1340740740740741</td>\n",
       "      <td>Townhouse</td>\n",
       "    </tr>\n",
       "    <tr>\n",
       "      <th>15</th>\n",
       "      <td>135.0694698354661792</td>\n",
       "      <td>Apartment</td>\n",
       "    </tr>\n",
       "    <tr>\n",
       "      <th>16</th>\n",
       "      <td>133.1750000000000000</td>\n",
       "      <td>Other</td>\n",
       "    </tr>\n",
       "    <tr>\n",
       "      <th>17</th>\n",
       "      <td>131.5454545454545455</td>\n",
       "      <td>Villa</td>\n",
       "    </tr>\n",
       "    <tr>\n",
       "      <th>18</th>\n",
       "      <td>122.5357142857142857</td>\n",
       "      <td>Guesthouse</td>\n",
       "    </tr>\n",
       "    <tr>\n",
       "      <th>19</th>\n",
       "      <td>120.0000000000000000</td>\n",
       "      <td>Cave</td>\n",
       "    </tr>\n",
       "    <tr>\n",
       "      <th>20</th>\n",
       "      <td>118.7000000000000000</td>\n",
       "      <td>Bungalow</td>\n",
       "    </tr>\n",
       "    <tr>\n",
       "      <th>21</th>\n",
       "      <td>107.7700348432055749</td>\n",
       "      <td>Guest suite</td>\n",
       "    </tr>\n",
       "    <tr>\n",
       "      <th>22</th>\n",
       "      <td>105.4602932193036042</td>\n",
       "      <td>House</td>\n",
       "    </tr>\n",
       "    <tr>\n",
       "      <th>23</th>\n",
       "      <td>100.0000000000000000</td>\n",
       "      <td>Nature lodge</td>\n",
       "    </tr>\n",
       "    <tr>\n",
       "      <th>24</th>\n",
       "      <td>87.9473684210526316</td>\n",
       "      <td>Tiny house</td>\n",
       "    </tr>\n",
       "    <tr>\n",
       "      <th>25</th>\n",
       "      <td>86.3333333333333333</td>\n",
       "      <td>Camper/RV</td>\n",
       "    </tr>\n",
       "    <tr>\n",
       "      <th>26</th>\n",
       "      <td>85.6666666666666667</td>\n",
       "      <td>Bed and breakfast</td>\n",
       "    </tr>\n",
       "    <tr>\n",
       "      <th>27</th>\n",
       "      <td>67.6000000000000000</td>\n",
       "      <td>Earth house</td>\n",
       "    </tr>\n",
       "    <tr>\n",
       "      <th>28</th>\n",
       "      <td>65.6666666666666667</td>\n",
       "      <td>Casa particular (Cuba)</td>\n",
       "    </tr>\n",
       "    <tr>\n",
       "      <th>29</th>\n",
       "      <td>65.0000000000000000</td>\n",
       "      <td>Cabin</td>\n",
       "    </tr>\n",
       "    <tr>\n",
       "      <th>30</th>\n",
       "      <td>61.8955223880597015</td>\n",
       "      <td>Hostel</td>\n",
       "    </tr>\n",
       "  </tbody>\n",
       "</table>\n",
       "</div>"
      ],
      "text/plain": [
       "               avg_price           property_type\n",
       "0   750.0000000000000000              Lighthouse\n",
       "1   493.7560975609756098                  Resort\n",
       "2   425.0000000000000000               Timeshare\n",
       "3   350.0000000000000000                    Tent\n",
       "4   325.0000000000000000               Farm stay\n",
       "5   280.0000000000000000               Houseboat\n",
       "6   207.3828756058158320                    Loft\n",
       "7   205.9512195121951220      Serviced apartment\n",
       "8   204.7424242424242424                   Hotel\n",
       "9   197.9333333333333333          Boutique hotel\n",
       "10  197.1111111111111111              Aparthotel\n",
       "11  188.7500000000000000                 Cottage\n",
       "12  184.0081766148814391             Condominium\n",
       "13  153.1111111111111111                    Boat\n",
       "14  140.1340740740740741               Townhouse\n",
       "15  135.0694698354661792               Apartment\n",
       "16  133.1750000000000000                   Other\n",
       "17  131.5454545454545455                   Villa\n",
       "18  122.5357142857142857              Guesthouse\n",
       "19  120.0000000000000000                    Cave\n",
       "20  118.7000000000000000                Bungalow\n",
       "21  107.7700348432055749             Guest suite\n",
       "22  105.4602932193036042                   House\n",
       "23  100.0000000000000000            Nature lodge\n",
       "24   87.9473684210526316              Tiny house\n",
       "25   86.3333333333333333               Camper/RV\n",
       "26   85.6666666666666667       Bed and breakfast\n",
       "27   67.6000000000000000             Earth house\n",
       "28   65.6666666666666667  Casa particular (Cuba)\n",
       "29   65.0000000000000000                   Cabin\n",
       "30   61.8955223880597015                  Hostel"
      ]
     },
     "execution_count": 76,
     "metadata": {},
     "output_type": "execute_result"
    }
   ],
   "source": [
    "cur.execute(\n",
    "    \"\"\" \n",
    "      select avg(h.price) as avg_price, p.property_type\n",
    "      from house h join house_info HI on h.house_id = HI.house_id\n",
    "      join property p on HI.property_id = p.property_id \n",
    "      group by p.property_type\n",
    "      order by avg_price desc\n",
    "\n",
    "    \"\"\"\n",
    ")\n",
    "\n",
    "rows = cur.fetchall()\n",
    "colname = [desc[0] for desc in cur.description]\n",
    "\n",
    "df2=pd.DataFrame(rows, columns=colname)\n",
    "\n",
    "df2\n"
   ]
  },
  {
   "cell_type": "markdown",
   "id": "44b92097",
   "metadata": {},
   "source": [
    "#### 3. What is the top 10 property type that has the highest price ?"
   ]
  },
  {
   "cell_type": "code",
   "execution_count": 77,
   "id": "b9d7aee0",
   "metadata": {},
   "outputs": [],
   "source": [
    "cur = conn.cursor()\n",
    "view2 = \"\"\"\n",
    "create view pp_rank as \n",
    "select p.property_type, h.price, \n",
    "dense_rank() over (partition by property_type order by price desc)\n",
    "from house h join house_info HI on h.house_id = HI.house_id\n",
    "join property p on HI.property_id = p.property_id;\n",
    "\n",
    "\n",
    "\"\"\"\n",
    "cur.execute(view2)\n",
    "conn.commit()"
   ]
  },
  {
   "cell_type": "code",
   "execution_count": 78,
   "id": "00317215",
   "metadata": {},
   "outputs": [
    {
     "data": {
      "text/html": [
       "<div>\n",
       "<style scoped>\n",
       "    .dataframe tbody tr th:only-of-type {\n",
       "        vertical-align: middle;\n",
       "    }\n",
       "\n",
       "    .dataframe tbody tr th {\n",
       "        vertical-align: top;\n",
       "    }\n",
       "\n",
       "    .dataframe thead th {\n",
       "        text-align: right;\n",
       "    }\n",
       "</style>\n",
       "<table border=\"1\" class=\"dataframe\">\n",
       "  <thead>\n",
       "    <tr style=\"text-align: right;\">\n",
       "      <th></th>\n",
       "      <th>property_type</th>\n",
       "      <th>price</th>\n",
       "    </tr>\n",
       "  </thead>\n",
       "  <tbody>\n",
       "    <tr>\n",
       "      <th>0</th>\n",
       "      <td>Apartment</td>\n",
       "      <td>999</td>\n",
       "    </tr>\n",
       "    <tr>\n",
       "      <th>1</th>\n",
       "      <td>Resort</td>\n",
       "      <td>999</td>\n",
       "    </tr>\n",
       "    <tr>\n",
       "      <th>2</th>\n",
       "      <td>Boutique hotel</td>\n",
       "      <td>999</td>\n",
       "    </tr>\n",
       "    <tr>\n",
       "      <th>3</th>\n",
       "      <td>Loft</td>\n",
       "      <td>999</td>\n",
       "    </tr>\n",
       "    <tr>\n",
       "      <th>4</th>\n",
       "      <td>House</td>\n",
       "      <td>990</td>\n",
       "    </tr>\n",
       "    <tr>\n",
       "      <th>5</th>\n",
       "      <td>Condominium</td>\n",
       "      <td>975</td>\n",
       "    </tr>\n",
       "    <tr>\n",
       "      <th>6</th>\n",
       "      <td>Townhouse</td>\n",
       "      <td>950</td>\n",
       "    </tr>\n",
       "    <tr>\n",
       "      <th>7</th>\n",
       "      <td>Serviced apartment</td>\n",
       "      <td>890</td>\n",
       "    </tr>\n",
       "    <tr>\n",
       "      <th>8</th>\n",
       "      <td>Villa</td>\n",
       "      <td>890</td>\n",
       "    </tr>\n",
       "    <tr>\n",
       "      <th>9</th>\n",
       "      <td>Guesthouse</td>\n",
       "      <td>800</td>\n",
       "    </tr>\n",
       "  </tbody>\n",
       "</table>\n",
       "</div>"
      ],
      "text/plain": [
       "        property_type price\n",
       "0           Apartment   999\n",
       "1              Resort   999\n",
       "2      Boutique hotel   999\n",
       "3                Loft   999\n",
       "4               House   990\n",
       "5         Condominium   975\n",
       "6           Townhouse   950\n",
       "7  Serviced apartment   890\n",
       "8               Villa   890\n",
       "9          Guesthouse   800"
      ]
     },
     "execution_count": 78,
     "metadata": {},
     "output_type": "execute_result"
    }
   ],
   "source": [
    "cur.execute(\n",
    "    \"\"\" \n",
    "      select property_type, price from pp_rank\n",
    "      where dense_rank <= 1\n",
    "      group by property_type,price\n",
    "      order by price desc\n",
    "      limit 10\n",
    "\n",
    "    \"\"\"\n",
    ")\n",
    "\n",
    "rows = cur.fetchall()\n",
    "colname = [desc[0] for desc in cur.description]\n",
    "\n",
    "df3=pd.DataFrame(rows, columns=colname)\n",
    "\n",
    "df3\n"
   ]
  },
  {
   "cell_type": "markdown",
   "id": "cfb6fe74",
   "metadata": {},
   "source": [
    "#### 4. What is the top 10 neighborhood that has the highest price of an Airbnb house in each borough?"
   ]
  },
  {
   "cell_type": "code",
   "execution_count": 79,
   "id": "f21a96d1",
   "metadata": {},
   "outputs": [],
   "source": [
    "cur = conn.cursor()\n",
    "view3 = \"\"\"\n",
    "create view np_rank as \n",
    "select p.borough_name, n.neighbourhood, h.price, \n",
    "dense_rank() over (partition by p.borough_name order by n.neighbourhood, price desc)\n",
    "from population p join house_info hi on p.borough_id = hi.borough_id\n",
    "join house h on hi.house_id = h.house_id\n",
    "join neighbourhood n on n.neighbour_id = hi.neighbour_id;\n",
    "\n",
    "\n",
    "\"\"\"\n",
    "cur.execute(view3)\n",
    "conn.commit()"
   ]
  },
  {
   "cell_type": "code",
   "execution_count": 81,
   "id": "89908bd0",
   "metadata": {},
   "outputs": [
    {
     "data": {
      "text/html": [
       "<div>\n",
       "<style scoped>\n",
       "    .dataframe tbody tr th:only-of-type {\n",
       "        vertical-align: middle;\n",
       "    }\n",
       "\n",
       "    .dataframe tbody tr th {\n",
       "        vertical-align: top;\n",
       "    }\n",
       "\n",
       "    .dataframe thead th {\n",
       "        text-align: right;\n",
       "    }\n",
       "</style>\n",
       "<table border=\"1\" class=\"dataframe\">\n",
       "  <thead>\n",
       "    <tr style=\"text-align: right;\">\n",
       "      <th></th>\n",
       "      <th>borough_name</th>\n",
       "      <th>neighbourhood</th>\n",
       "      <th>price</th>\n",
       "    </tr>\n",
       "  </thead>\n",
       "  <tbody>\n",
       "    <tr>\n",
       "      <th>0</th>\n",
       "      <td>Staten Island</td>\n",
       "      <td>Arrochar</td>\n",
       "      <td>625</td>\n",
       "    </tr>\n",
       "    <tr>\n",
       "      <th>1</th>\n",
       "      <td>Manhattan</td>\n",
       "      <td>Battery Park City</td>\n",
       "      <td>600</td>\n",
       "    </tr>\n",
       "    <tr>\n",
       "      <th>2</th>\n",
       "      <td>Queens</td>\n",
       "      <td>Arverne</td>\n",
       "      <td>550</td>\n",
       "    </tr>\n",
       "    <tr>\n",
       "      <th>3</th>\n",
       "      <td>Queens</td>\n",
       "      <td>Arverne</td>\n",
       "      <td>500</td>\n",
       "    </tr>\n",
       "    <tr>\n",
       "      <th>4</th>\n",
       "      <td>Queens</td>\n",
       "      <td>Arverne</td>\n",
       "      <td>450</td>\n",
       "    </tr>\n",
       "    <tr>\n",
       "      <th>5</th>\n",
       "      <td>Manhattan</td>\n",
       "      <td>Battery Park City</td>\n",
       "      <td>350</td>\n",
       "    </tr>\n",
       "    <tr>\n",
       "      <th>6</th>\n",
       "      <td>Manhattan</td>\n",
       "      <td>Battery Park City</td>\n",
       "      <td>325</td>\n",
       "    </tr>\n",
       "    <tr>\n",
       "      <th>7</th>\n",
       "      <td>Bronx</td>\n",
       "      <td>Allerton</td>\n",
       "      <td>186</td>\n",
       "    </tr>\n",
       "    <tr>\n",
       "      <th>8</th>\n",
       "      <td>Brooklyn</td>\n",
       "      <td>Bath Beach</td>\n",
       "      <td>180</td>\n",
       "    </tr>\n",
       "    <tr>\n",
       "      <th>9</th>\n",
       "      <td>Brooklyn</td>\n",
       "      <td>Bath Beach</td>\n",
       "      <td>166</td>\n",
       "    </tr>\n",
       "  </tbody>\n",
       "</table>\n",
       "</div>"
      ],
      "text/plain": [
       "    borough_name      neighbourhood price\n",
       "0  Staten Island           Arrochar   625\n",
       "1      Manhattan  Battery Park City   600\n",
       "2         Queens            Arverne   550\n",
       "3         Queens            Arverne   500\n",
       "4         Queens            Arverne   450\n",
       "5      Manhattan  Battery Park City   350\n",
       "6      Manhattan  Battery Park City   325\n",
       "7          Bronx           Allerton   186\n",
       "8       Brooklyn         Bath Beach   180\n",
       "9       Brooklyn         Bath Beach   166"
      ]
     },
     "execution_count": 81,
     "metadata": {},
     "output_type": "execute_result"
    }
   ],
   "source": [
    "cur.execute(\n",
    "    \"\"\" \n",
    "      select borough_name, neighbourhood, price from np_rank\n",
    "      where dense_rank <=3\n",
    "      group by neighbourhood, price,borough_name\n",
    "      order by price desc\n",
    "      limit 10\n",
    "\n",
    "    \"\"\"\n",
    ")\n",
    "\n",
    "rows = cur.fetchall()\n",
    "colname = [desc[0] for desc in cur.description]\n",
    "\n",
    "df4=pd.DataFrame(rows, columns=colname)\n",
    "\n",
    "df4"
   ]
  },
  {
   "cell_type": "markdown",
   "id": "c6d67ba7",
   "metadata": {},
   "source": [
    "#### 5. What is the correlation between rental price and maintenance fee?\n"
   ]
  },
  {
   "cell_type": "code",
   "execution_count": 82,
   "id": "7e019c96",
   "metadata": {},
   "outputs": [
    {
     "data": {
      "text/html": [
       "<div>\n",
       "<style scoped>\n",
       "    .dataframe tbody tr th:only-of-type {\n",
       "        vertical-align: middle;\n",
       "    }\n",
       "\n",
       "    .dataframe tbody tr th {\n",
       "        vertical-align: top;\n",
       "    }\n",
       "\n",
       "    .dataframe thead th {\n",
       "        text-align: right;\n",
       "    }\n",
       "</style>\n",
       "<table border=\"1\" class=\"dataframe\">\n",
       "  <thead>\n",
       "    <tr style=\"text-align: right;\">\n",
       "      <th></th>\n",
       "      <th>corr</th>\n",
       "    </tr>\n",
       "  </thead>\n",
       "  <tbody>\n",
       "    <tr>\n",
       "      <th>0</th>\n",
       "      <td>0.461697</td>\n",
       "    </tr>\n",
       "  </tbody>\n",
       "</table>\n",
       "</div>"
      ],
      "text/plain": [
       "       corr\n",
       "0  0.461697"
      ]
     },
     "execution_count": 82,
     "metadata": {},
     "output_type": "execute_result"
    }
   ],
   "source": [
    "cur.execute(\n",
    "    \"\"\" \n",
    "      select corr(rental_price, maintenance_fee)\n",
    "      from(\n",
    "      select ht.avg_price rental_price, mf.avg_amount maintenance_fee\n",
    "      from house_type ht join maintenance_fee mf\n",
    "      on ht.borough_id = mf.borough_id) htmf\n",
    "\n",
    "    \"\"\"\n",
    ")\n",
    "\n",
    "rows = cur.fetchall()\n",
    "colname = [desc[0] for desc in cur.description]\n",
    "\n",
    "df5=pd.DataFrame(rows, columns=colname)\n",
    "\n",
    "df5"
   ]
  },
  {
   "cell_type": "markdown",
   "id": "bd14b034",
   "metadata": {},
   "source": [
    "#### 6. Which borough in the NYC has the highest number of houses available for rental on Airbnb？"
   ]
  },
  {
   "cell_type": "code",
   "execution_count": 118,
   "id": "5908261c",
   "metadata": {
    "scrolled": true
   },
   "outputs": [
    {
     "data": {
      "text/html": [
       "<div>\n",
       "<style scoped>\n",
       "    .dataframe tbody tr th:only-of-type {\n",
       "        vertical-align: middle;\n",
       "    }\n",
       "\n",
       "    .dataframe tbody tr th {\n",
       "        vertical-align: top;\n",
       "    }\n",
       "\n",
       "    .dataframe thead th {\n",
       "        text-align: right;\n",
       "    }\n",
       "</style>\n",
       "<table border=\"1\" class=\"dataframe\">\n",
       "  <thead>\n",
       "    <tr style=\"text-align: right;\">\n",
       "      <th></th>\n",
       "      <th>borough_name</th>\n",
       "      <th>total_number_houses</th>\n",
       "    </tr>\n",
       "  </thead>\n",
       "  <tbody>\n",
       "    <tr>\n",
       "      <th>0</th>\n",
       "      <td>Manhattan</td>\n",
       "      <td>17430</td>\n",
       "    </tr>\n",
       "    <tr>\n",
       "      <th>1</th>\n",
       "      <td>Brooklyn</td>\n",
       "      <td>16058</td>\n",
       "    </tr>\n",
       "    <tr>\n",
       "      <th>2</th>\n",
       "      <td>Queens</td>\n",
       "      <td>4808</td>\n",
       "    </tr>\n",
       "    <tr>\n",
       "      <th>3</th>\n",
       "      <td>Bronx</td>\n",
       "      <td>923</td>\n",
       "    </tr>\n",
       "    <tr>\n",
       "      <th>4</th>\n",
       "      <td>Staten Island</td>\n",
       "      <td>308</td>\n",
       "    </tr>\n",
       "  </tbody>\n",
       "</table>\n",
       "</div>"
      ],
      "text/plain": [
       "    borough_name  total_number_houses\n",
       "0      Manhattan                17430\n",
       "1       Brooklyn                16058\n",
       "2         Queens                 4808\n",
       "3          Bronx                  923\n",
       "4  Staten Island                  308"
      ]
     },
     "execution_count": 118,
     "metadata": {},
     "output_type": "execute_result"
    }
   ],
   "source": [
    "cur.execute(\n",
    "    \"\"\" \n",
    "      select p.borough_name, count(h.house_id) as total_number_houses\n",
    "      from population as p\n",
    "      join house_info as h using (borough_id)\n",
    "      group by p.borough_name\n",
    "      order by total_number_houses DESC\n",
    "\n",
    "    \"\"\"\n",
    ")\n",
    "\n",
    "rows = cur.fetchall()\n",
    "colname = [desc[0] for desc in cur.description]\n",
    "\n",
    "df6=pd.DataFrame(rows, columns=colname)\n",
    "\n",
    "df6"
   ]
  },
  {
   "cell_type": "markdown",
   "id": "e968f7f0",
   "metadata": {},
   "source": [
    "#### 7. Is there any relationship between rental price and neighborhood(rental price by neighbourhood)?\n"
   ]
  },
  {
   "cell_type": "code",
   "execution_count": 117,
   "id": "a7466a0c",
   "metadata": {},
   "outputs": [
    {
     "data": {
      "text/html": [
       "<div>\n",
       "<style scoped>\n",
       "    .dataframe tbody tr th:only-of-type {\n",
       "        vertical-align: middle;\n",
       "    }\n",
       "\n",
       "    .dataframe tbody tr th {\n",
       "        vertical-align: top;\n",
       "    }\n",
       "\n",
       "    .dataframe thead th {\n",
       "        text-align: right;\n",
       "    }\n",
       "</style>\n",
       "<table border=\"1\" class=\"dataframe\">\n",
       "  <thead>\n",
       "    <tr style=\"text-align: right;\">\n",
       "      <th></th>\n",
       "      <th>neighbourhood</th>\n",
       "      <th>avg_price</th>\n",
       "    </tr>\n",
       "  </thead>\n",
       "  <tbody>\n",
       "    <tr>\n",
       "      <th>0</th>\n",
       "      <td>Tremont</td>\n",
       "      <td>54.1818181818181818</td>\n",
       "    </tr>\n",
       "    <tr>\n",
       "      <th>1</th>\n",
       "      <td>Parkchester</td>\n",
       "      <td>73.2400000000000000</td>\n",
       "    </tr>\n",
       "    <tr>\n",
       "      <th>2</th>\n",
       "      <td>Brooklyn Heights</td>\n",
       "      <td>184.4750000000000000</td>\n",
       "    </tr>\n",
       "    <tr>\n",
       "      <th>3</th>\n",
       "      <td>Highbridge</td>\n",
       "      <td>60.1785714285714286</td>\n",
       "    </tr>\n",
       "    <tr>\n",
       "      <th>4</th>\n",
       "      <td>Eltingville</td>\n",
       "      <td>67.5000000000000000</td>\n",
       "    </tr>\n",
       "    <tr>\n",
       "      <th>...</th>\n",
       "      <td>...</td>\n",
       "      <td>...</td>\n",
       "    </tr>\n",
       "    <tr>\n",
       "      <th>216</th>\n",
       "      <td>Spuyten Duyvil</td>\n",
       "      <td>158.3333333333333333</td>\n",
       "    </tr>\n",
       "    <tr>\n",
       "      <th>217</th>\n",
       "      <td>St. Albans</td>\n",
       "      <td>80.6818181818181818</td>\n",
       "    </tr>\n",
       "    <tr>\n",
       "      <th>218</th>\n",
       "      <td>Tottenville</td>\n",
       "      <td>143.3333333333333333</td>\n",
       "    </tr>\n",
       "    <tr>\n",
       "      <th>219</th>\n",
       "      <td>Dongan Hills</td>\n",
       "      <td>82.3333333333333333</td>\n",
       "    </tr>\n",
       "    <tr>\n",
       "      <th>220</th>\n",
       "      <td>Kingsbridge</td>\n",
       "      <td>84.3442622950819672</td>\n",
       "    </tr>\n",
       "  </tbody>\n",
       "</table>\n",
       "<p>221 rows × 2 columns</p>\n",
       "</div>"
      ],
      "text/plain": [
       "        neighbourhood             avg_price\n",
       "0             Tremont   54.1818181818181818\n",
       "1         Parkchester   73.2400000000000000\n",
       "2    Brooklyn Heights  184.4750000000000000\n",
       "3          Highbridge   60.1785714285714286\n",
       "4         Eltingville   67.5000000000000000\n",
       "..                ...                   ...\n",
       "216    Spuyten Duyvil  158.3333333333333333\n",
       "217        St. Albans   80.6818181818181818\n",
       "218       Tottenville  143.3333333333333333\n",
       "219      Dongan Hills   82.3333333333333333\n",
       "220       Kingsbridge   84.3442622950819672\n",
       "\n",
       "[221 rows x 2 columns]"
      ]
     },
     "execution_count": 117,
     "metadata": {},
     "output_type": "execute_result"
    }
   ],
   "source": [
    "cur.execute(\n",
    "    \"\"\" \n",
    "      select neighbourhood, avg(price) as avg_price\n",
    "      from neighbourhood \n",
    "      join house_info using (neighbour_id)\n",
    "      join house using (house_id)\n",
    "      group by neighbourhood\n",
    "\n",
    "\n",
    "    \"\"\"\n",
    ")\n",
    "\n",
    "rows = cur.fetchall()\n",
    "colname = [desc[0] for desc in cur.description]\n",
    "\n",
    "df7=pd.DataFrame(rows, columns=colname)\n",
    "\n",
    "df7"
   ]
  },
  {
   "cell_type": "markdown",
   "id": "5b95e059",
   "metadata": {},
   "source": [
    "#### 8. Relation between different types of cancellation policy and rental prices\n"
   ]
  },
  {
   "cell_type": "code",
   "execution_count": null,
   "id": "a6a2f43e",
   "metadata": {},
   "outputs": [],
   "source": [
    "cur.execute(\n",
    "    \"\"\" \n",
    "      SELECT cancellation_policy, AVG(price) AS avg_price\n",
    "      FROM policy \n",
    "      JOIN house_policy USING (policy_id)\n",
    "      JOIN house USING (house_id)\n",
    "      GROUP BY cancellation_policy\n",
    "      ORDER BY avg_price DESC;\n",
    "\n",
    "\n",
    "    \"\"\"\n",
    ")\n",
    "\n",
    "rows = cur.fetchall()\n",
    "colname = [desc[0] for desc in cur.description]\n",
    "\n",
    "df8=pd.DataFrame(rows, columns=colname)\n",
    "\n",
    "df8"
   ]
  },
  {
   "cell_type": "markdown",
   "id": "aa0c3f4d",
   "metadata": {},
   "source": [
    "#### 9.What is the relationship between the number of parks and rental prices within each borough?"
   ]
  },
  {
   "cell_type": "code",
   "execution_count": 115,
   "id": "903b9e24",
   "metadata": {},
   "outputs": [],
   "source": [
    "cur = conn.cursor()\n",
    "view4 = \"\"\"\n",
    "create view park_borough as\n",
    "select po.borough_id, po.borough_name, count(p.park_type) as park_number \n",
    "from population po join parks p on po.borough_id = p.borough_id \n",
    "group by po.borough_id \n",
    "\n",
    "\n",
    "\"\"\"\n",
    "cur.execute(view4)\n",
    "conn.commit()"
   ]
  },
  {
   "cell_type": "code",
   "execution_count": 116,
   "id": "0b77b0b3",
   "metadata": {},
   "outputs": [
    {
     "data": {
      "text/html": [
       "<div>\n",
       "<style scoped>\n",
       "    .dataframe tbody tr th:only-of-type {\n",
       "        vertical-align: middle;\n",
       "    }\n",
       "\n",
       "    .dataframe tbody tr th {\n",
       "        vertical-align: top;\n",
       "    }\n",
       "\n",
       "    .dataframe thead th {\n",
       "        text-align: right;\n",
       "    }\n",
       "</style>\n",
       "<table border=\"1\" class=\"dataframe\">\n",
       "  <thead>\n",
       "    <tr style=\"text-align: right;\">\n",
       "      <th></th>\n",
       "      <th>avg_price</th>\n",
       "      <th>park_number</th>\n",
       "      <th>borough_name</th>\n",
       "    </tr>\n",
       "  </thead>\n",
       "  <tbody>\n",
       "    <tr>\n",
       "      <th>0</th>\n",
       "      <td>174.7414802065404475</td>\n",
       "      <td>386</td>\n",
       "      <td>Manhattan</td>\n",
       "    </tr>\n",
       "    <tr>\n",
       "      <th>1</th>\n",
       "      <td>85.0844155844155844</td>\n",
       "      <td>160</td>\n",
       "      <td>Staten Island</td>\n",
       "    </tr>\n",
       "    <tr>\n",
       "      <th>2</th>\n",
       "      <td>115.4558475526217462</td>\n",
       "      <td>613</td>\n",
       "      <td>Brooklyn</td>\n",
       "    </tr>\n",
       "    <tr>\n",
       "      <th>3</th>\n",
       "      <td>75.1549295774647887</td>\n",
       "      <td>393</td>\n",
       "      <td>Bronx</td>\n",
       "    </tr>\n",
       "    <tr>\n",
       "      <th>4</th>\n",
       "      <td>90.7379367720465890</td>\n",
       "      <td>472</td>\n",
       "      <td>Queens</td>\n",
       "    </tr>\n",
       "  </tbody>\n",
       "</table>\n",
       "</div>"
      ],
      "text/plain": [
       "              avg_price  park_number   borough_name\n",
       "0  174.7414802065404475          386      Manhattan\n",
       "1   85.0844155844155844          160  Staten Island\n",
       "2  115.4558475526217462          613       Brooklyn\n",
       "3   75.1549295774647887          393          Bronx\n",
       "4   90.7379367720465890          472         Queens"
      ]
     },
     "execution_count": 116,
     "metadata": {},
     "output_type": "execute_result"
    }
   ],
   "source": [
    "cur.execute(\n",
    "    \"\"\" \n",
    "     select ht.avg_price, pb.park_number, pb.borough_name\n",
    "from house_type ht join park_borough pb\n",
    "on ht.borough_id = pb.borough_id \n",
    "\n",
    "\n",
    "\n",
    "    \"\"\"\n",
    ")\n",
    "\n",
    "rows = cur.fetchall()\n",
    "colname = [desc[0] for desc in cur.description]\n",
    "\n",
    "df9=pd.DataFrame(rows, columns=colname)\n",
    "\n",
    "df9"
   ]
  },
  {
   "cell_type": "markdown",
   "id": "6bf959ec",
   "metadata": {},
   "source": [
    "#### 10. What is the relationship between population and rental price within each borough?\n"
   ]
  },
  {
   "cell_type": "code",
   "execution_count": 119,
   "id": "0f0895c0",
   "metadata": {},
   "outputs": [],
   "source": [
    "cur = conn.cursor()\n",
    "view4 = \"\"\"\n",
    "create view population_borough as\n",
    "select po.borough_id, po.borough_name, po.population_2020, po.population_share_of_NYC_in_2020\n",
    "from population po \n",
    "group by po.borough_id \n",
    "\n",
    "\n",
    "\n",
    "\"\"\"\n",
    "cur.execute(view4)\n",
    "conn.commit()"
   ]
  },
  {
   "cell_type": "code",
   "execution_count": 120,
   "id": "5978967b",
   "metadata": {
    "code_folding": [
     4
    ]
   },
   "outputs": [
    {
     "data": {
      "text/html": [
       "<div>\n",
       "<style scoped>\n",
       "    .dataframe tbody tr th:only-of-type {\n",
       "        vertical-align: middle;\n",
       "    }\n",
       "\n",
       "    .dataframe tbody tr th {\n",
       "        vertical-align: top;\n",
       "    }\n",
       "\n",
       "    .dataframe thead th {\n",
       "        text-align: right;\n",
       "    }\n",
       "</style>\n",
       "<table border=\"1\" class=\"dataframe\">\n",
       "  <thead>\n",
       "    <tr style=\"text-align: right;\">\n",
       "      <th></th>\n",
       "      <th>avg_price</th>\n",
       "      <th>population_2020</th>\n",
       "      <th>population_share_of_nyc_in_2020</th>\n",
       "      <th>borough_name</th>\n",
       "    </tr>\n",
       "  </thead>\n",
       "  <tbody>\n",
       "    <tr>\n",
       "      <th>0</th>\n",
       "      <td>174.7414802065404475</td>\n",
       "      <td>1638281</td>\n",
       "      <td>19.16</td>\n",
       "      <td>Manhattan</td>\n",
       "    </tr>\n",
       "    <tr>\n",
       "      <th>1</th>\n",
       "      <td>85.0844155844155844</td>\n",
       "      <td>487155</td>\n",
       "      <td>5.7</td>\n",
       "      <td>Staten Island</td>\n",
       "    </tr>\n",
       "    <tr>\n",
       "      <th>2</th>\n",
       "      <td>115.4558475526217462</td>\n",
       "      <td>2648452</td>\n",
       "      <td>30.97</td>\n",
       "      <td>Brooklyn</td>\n",
       "    </tr>\n",
       "    <tr>\n",
       "      <th>3</th>\n",
       "      <td>75.1549295774647887</td>\n",
       "      <td>1446788</td>\n",
       "      <td>16.92</td>\n",
       "      <td>Bronx</td>\n",
       "    </tr>\n",
       "    <tr>\n",
       "      <th>4</th>\n",
       "      <td>90.7379367720465890</td>\n",
       "      <td>2330295</td>\n",
       "      <td>27.25</td>\n",
       "      <td>Queens</td>\n",
       "    </tr>\n",
       "  </tbody>\n",
       "</table>\n",
       "</div>"
      ],
      "text/plain": [
       "              avg_price  population_2020 population_share_of_nyc_in_2020  \\\n",
       "0  174.7414802065404475          1638281                           19.16   \n",
       "1   85.0844155844155844           487155                             5.7   \n",
       "2  115.4558475526217462          2648452                           30.97   \n",
       "3   75.1549295774647887          1446788                           16.92   \n",
       "4   90.7379367720465890          2330295                           27.25   \n",
       "\n",
       "    borough_name  \n",
       "0      Manhattan  \n",
       "1  Staten Island  \n",
       "2       Brooklyn  \n",
       "3          Bronx  \n",
       "4         Queens  "
      ]
     },
     "execution_count": 120,
     "metadata": {},
     "output_type": "execute_result"
    }
   ],
   "source": [
    "cur.execute(\n",
    "    \"\"\" \n",
    "    select ht.avg_price, pob.population_2020, pob.population_share_of_NYC_in_2020, pob.borough_name\n",
    "    from house_type ht join population_borough pob\n",
    "    on ht.borough_id = pob.borough_id \n",
    "\n",
    "\"\"\"\n",
    ")\n",
    "\n",
    "rows = cur.fetchall()\n",
    "colname = [desc[0] for desc in cur.description]\n",
    "\n",
    "df10=pd.DataFrame(rows, columns=colname)\n",
    "\n",
    "df10"
   ]
  },
  {
   "cell_type": "code",
   "execution_count": 114,
   "id": "9f6aeac6",
   "metadata": {},
   "outputs": [
    {
     "data": {
      "text/plain": [
       "<function connection.close>"
      ]
     },
     "execution_count": 114,
     "metadata": {},
     "output_type": "execute_result"
    }
   ],
   "source": [
    "# close connection \n",
    "conn.close"
   ]
  },
  {
   "cell_type": "code",
   "execution_count": null,
   "id": "3e884ee3",
   "metadata": {},
   "outputs": [],
   "source": []
  }
 ],
 "metadata": {
  "kernelspec": {
   "display_name": "Python 3",
   "language": "python",
   "name": "python3"
  },
  "language_info": {
   "codemirror_mode": {
    "name": "ipython",
    "version": 3
   },
   "file_extension": ".py",
   "mimetype": "text/x-python",
   "name": "python",
   "nbconvert_exporter": "python",
   "pygments_lexer": "ipython3",
   "version": "3.7.9"
  },
  "varInspector": {
   "cols": {
    "lenName": 16,
    "lenType": 16,
    "lenVar": 40
   },
   "kernels_config": {
    "python": {
     "delete_cmd_postfix": "",
     "delete_cmd_prefix": "del ",
     "library": "var_list.py",
     "varRefreshCmd": "print(var_dic_list())"
    },
    "r": {
     "delete_cmd_postfix": ") ",
     "delete_cmd_prefix": "rm(",
     "library": "var_list.r",
     "varRefreshCmd": "cat(var_dic_list()) "
    }
   },
   "types_to_exclude": [
    "module",
    "function",
    "builtin_function_or_method",
    "instance",
    "_Feature"
   ],
   "window_display": false
  }
 },
 "nbformat": 4,
 "nbformat_minor": 5
}
